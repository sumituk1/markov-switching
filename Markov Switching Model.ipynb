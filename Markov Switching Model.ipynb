{
 "cells": [
  {
   "cell_type": "markdown",
   "metadata": {},
   "source": [
    "We'll assume that $Y = \\{y_1, y_2, \\ldots, y_n\\}$ is governed by a mixture of two Gaussians, call them $f_0$ and $f_1$.  .  This implies that there is an unobservable variable, call it $S = \\{s_1, s_2, \\ldots, s_n\\}$ which specifies which Gaussian $Y$ is drawn from.  We will suppose that $S_t$ can assume values 0 or 1, and we will say that $Y_t \\sim f_0$ if $S_t= 0$ and $Y_t \\sim f_1$ if $S_t = 1$.  As is, this would be considered a random switching model and $S$ would be a sequence of iid Bernoulli random variables.  But this implies a memory-less swithcing process, but we want to impose that information about $S_t$ can inform us about $S_{t+1}$, thus, it makes sense to describe $S$ as a markov process.  For what follows we will consider S to be an order 1 markov process, which can be entirely characterized by the transition matrix \n",
    "\n",
    "$$P = \\left[\\begin{array}{cc}\n",
    "p_{0,0}\t& p_{0,1} \\\\ \n",
    "p_{1,0}\t& p_{1,1}\n",
    "\\end{array}\\right] $$\n",
    "\n",
    "The variable $S_t$ is unobservable, but we can estimate the probabilty of $S_t$ via Bayes rule.  As an example of the first observation in $Y$.  \n",
    "\n",
    "$$P(S_1 = 0 | Y_1 = y_1) = \\frac{P(Y_1 = y_1 | S_1 = 0) \\cdot P(S_1 = 0)}{P(Y_1 = y_1)}$$\n",
    "\n",
    "$$ = \\frac{ f_1 \\cdot \\xi }{\\xi\\cdot f_1 + (1- \\xi)\\cdot f_0}$$\n",
    "\n",
    "after computing the inferences for the regimes at time 1, we can use them to make a forecast for the regime distribution at time 2.  \n",
    "\n",
    "$$P(S_2 = 0 | Y_1 = y_1) =  P(S_2 = 0 | S_1 = 0, Y_1 = y_1)P(S_1 = 0|Y_1 = y_1) + P(S_2=0| S_1 = 1, Y_1 = y_1)P(S_1 = 1|Y_1 = Y_1) $$\n",
    "\n",
    "$$ = P(S_2 = 0 |S_1 = 0)P(S_1 = 0 | Y_1 = y_1) + P(S_2 = 0 | S_1 = 1)P(S_1 = 1 | Y_1 = y_1)$$\n",
    "\n",
    "$$ = p_{0,0}\\frac{ P(Y_1 = y_1 | S_1 = 0) P(S_1 = 0)}{P(Y_1 = y_1)} + p_{1,0}\\frac{ P(Y_1 = y_1 | S_1 = 1) P(S_1 = 1)}{P(Y_1 = y_1)}$$\n",
    "\n",
    "$$ = P(S_2 = 0 | Y_1 = y_1) = p_{0,0}P(S_1 = 0 | Y_1 = y_1) + p_{1,0}P(S_1 = 0 | Y_1 = y_1)$$\n",
    "\n",
    "and anolgously\n",
    "\n",
    "$$P(S_2 = 1 | Y_1 = y_1) = 1 - P(S_2 = 0 | Y_1 = 1)$$"
   ]
  },
  {
   "cell_type": "code",
   "execution_count": null,
   "metadata": {
    "collapsed": true
   },
   "outputs": [],
   "source": [
    "import numpy as np\n",
    "import pandas as pd\n",
    "from scipy.stats import norm\n",
    "%matplotlib inline\n",
    "\n",
    "df = pd.read_excel(\"RSExample_MSCIUS.xls\", headers=True)\n",
    "\n",
    "df[\"return\"].plot()\n",
    "\n",
    "\n",
    "\n",
    "y = df[\"return\"].values\n",
    "S = np.zeros(y.shape)"
   ]
  },
  {
   "cell_type": "code",
   "execution_count": 2,
   "metadata": {
    "collapsed": true
   },
   "outputs": [],
   "source": [
    "mu0 = 0.04\n",
    "sig0 = 1.0\n",
    "mu1 = -0.04\n",
    "sig1 = 4\n",
    "regimes = 2\n",
    "xi = 0.5 # pr(s_1 = 0)\n",
    "p = np.array([[.8,.2], [.2,.8]])"
   ]
  },
  {
   "cell_type": "code",
   "execution_count": 3,
   "metadata": {
    "collapsed": true
   },
   "outputs": [],
   "source": [
    "## initialize stuff\n",
    "xi_t_given_t = np.zeros((S.shape[0], 2))\n",
    "xi_tp1_given_t = np.zeros((S.shape[0], 2))\n",
    "\n",
    "xi_tp1_given_t[0,0] = 0.5\n",
    "xi_tp1_given_t[0,1] = 0.5"
   ]
  },
  {
   "cell_type": "code",
   "execution_count": 20,
   "metadata": {},
   "outputs": [
    {
     "name": "stdout",
     "output_type": "stream",
     "text": [
      "\n",
      "inference probs\n",
      "          0         1\n",
      "0  0.713338  0.286662\n",
      "1  0.336510  0.663490\n",
      "2  0.543358  0.456642\n",
      "3  0.516551  0.483449\n",
      "4  0.770750  0.229250\n",
      "\n",
      "forecast probs\n",
      "          0         1\n",
      "0  0.572980  0.427020\n",
      "1  0.651526  0.363652\n",
      "2  0.383879  0.604490\n",
      "3  0.530795  0.472289\n",
      "4  0.511756  0.489422\n",
      "\n",
      "smoothed probs\n",
      "          0         1\n",
      "0  0.572896  0.329446\n",
      "1  0.474832  0.451589\n",
      "2  0.601878  0.293347\n",
      "3  0.640994  0.244627\n",
      "4  0.715798  0.151456\n",
      "\n",
      "log likelihood\n",
      "-3410.95360699\n"
     ]
    }
   ],
   "source": [
    "oldLogLike = -3412.8839872\n",
    "for ii in range(1):\n",
    "    f0 = norm.pdf(y, mu0, sig0)\n",
    "    f1 = norm.pdf(y, mu1, sig1)\n",
    "    f = np.array( [f0, f1] ).T\n",
    "\n",
    "    # p(s_1 = 0 | Y_1)\n",
    "    # initialize xi_t given t as follows\n",
    "    temp_calc = xi*f0[0] / (xi*f0[0] + (1-xi)*f1[0])\n",
    "    xi_t_given_t[0,:] = np.array([temp_calc, 1 - temp_calc])\n",
    "    xi_t_given_t\n",
    "\n",
    "    # p(s_2 = 0 | Y_1) \n",
    "    # p(s_2 = 1 | Y_1)\n",
    "    xi_tp1_given_t[0,0] = xi\n",
    "    xi_tp1_given_t[0,1] = 1-xi\n",
    "    for i in range(1,S.shape[0]):\n",
    "        xi_tp1_given_t[i,:] = xi_t_given_t[i-1,:].dot(p.T)\n",
    "        xi_t_given_t[i,:] = xi_tp1_given_t[i,:]*f[i,:] / xi_tp1_given_t[i,:].dot(f[i,:])\n",
    "\n",
    "    # inference probabilities\n",
    "    print(\"\\ninference probs\")\n",
    "    print(pd.DataFrame(xi_t_given_t).head())\n",
    "\n",
    "\n",
    "    # forecast probabilites\n",
    "    print(\"\\nforecast probs\")\n",
    "    print(pd.DataFrame(xi_tp1_given_t).head())\n",
    "\n",
    "    ## smoothed probabilities\n",
    "    ## use the inference probabiilty as the intial value, iterate through backware to get the smoothing probabilities\n",
    "\n",
    "    xi_t_given_T = np.zeros(xi_t_given_t.shape)\n",
    "    xi_t_given_T[-1,:] = xi_t_given_t[-1,:]\n",
    "\n",
    "    for i in range(xi_t_given_T.shape[0]-2,-1,-1):    \n",
    "        temp = xi_t_given_t[i,:] * (p.T.dot( xi_t_given_T[i+1,:] / xi_tp1_given_t[i+1,:]))\n",
    "        xi_t_given_T[i, :] = temp\n",
    "\n",
    "    print(\"\\nsmoothed probs\")\n",
    "    print(pd.DataFrame(xi_t_given_T).head())\n",
    "\n",
    "    # log likelihood\n",
    "    print(\"\\nlog likelihood\")\n",
    "    print(np.log(np.sum(f * xi_tp1_given_t, axis=1)).sum())\n",
    "\n",
    "    ## ml estimate of mu0 and mu1\n",
    "    mu0,mu1 = (xi_t_given_T * y.reshape([y.shape[0],1])).sum(axis=0) / xi_t_given_T.sum(axis=0)\n",
    "\n",
    "    ## ml estimate of sigma0 and sigma1\n",
    "    new_sigma_iter = (xi_t_given_T * (y.reshape([y.shape[0],1]) - np.array([mu0, mu1]))**2).sum(axis=0) / xi_t_given_T.sum(axis=0)\n",
    "\n",
    "#     mu0,mu1 = new_mu_iter\n",
    "    sigma0, sigma1 = np.sqrt(new_sigma_iter)\n",
    "    \n",
    "    p_00 = np.zeros(y.shape)\n",
    "    p_11 = np.zeros(y.shape)\n",
    "    p_00[0] = p[0,0]\n",
    "    p_11[0] = p[1,1]\n",
    "    for i in range(1,p_00.shape[0]):\n",
    "        p_00[i] = xi_t_given_t[i-1, 0] * xi_t_given_T[i,0]/xi_tp1_given_t[i,0]*p[0,0]\n",
    "        p_11[i] = xi_t_given_t[i-1, 1] * xi_t_given_T[i,1]/xi_tp1_given_t[i,1]*p[1,1]\n",
    "\n",
    "    p_00 = p_00[1:].sum() / xi_t_given_T[0:-1, 0].sum()\n",
    "    p_11 = p_11[1:].sum() / xi_t_given_T[0:-1, 1].sum()\n",
    "    p[0,0] = p_00\n",
    "    p[0,1] = 1 - p_00\n",
    "    p[1,1] = p_11\n",
    "    p[1,0] = 1 - p_11\n",
    "\n",
    "#     print(\"\\ntransition matrix\")\n",
    "#     print(p)\n",
    "\n",
    "#     mu0,mu1 = new_mu_iter\n",
    "#     sigma0, sigma1 = np.sqrt(new_sigma_iter)\n",
    "\n",
    "    xi = xi_t_given_T[0,0]\n",
    "#     print(\"\\npr(s1 = 0)\")\n",
    "#     print(xi)\n",
    "\n",
    "#     print(\"\\nmu0 -> {}, sigma0 -> {}\".format(mu0, sigma0))\n",
    "#     print(\"\\nmu1 -> {}, sigma1 -> {}\".format(mu1, sigma1))"
   ]
  },
  {
   "cell_type": "code",
   "execution_count": 12,
   "metadata": {},
   "outputs": [
    {
     "name": "stdout",
     "output_type": "stream",
     "text": [
      "\n",
      "log likelihood\n",
      "-3411.63557448\n",
      "\n",
      "transition matrix\n",
      "[[ 0.84059255  0.15940745]\n",
      " [ 0.20105599  0.79894401]]\n",
      "\n",
      "pr(s1 = 0)\n",
      "0.638444749284\n",
      "\n",
      "mu0 -> 0.2274680816702556, sigma0 -> 1.1584782910494325\n",
      "\n",
      "mu1 -> -0.24363339106119966, sigma1 -> 3.1725894576494125\n"
     ]
    }
   ],
   "source": [
    "     ## log likelihood\n",
    "print(\"\\nlog likelihood\")\n",
    "print(np.log(np.sum(f * xi_tp1_given_t, axis=1)).sum())\n",
    "\n",
    "print(\"\\ntransition matrix\")\n",
    "print(p)\n",
    "\n",
    "print(\"\\npr(s1 = 0)\")\n",
    "print(xi)\n",
    "\n",
    "print(\"\\nmu0 -> {}, sigma0 -> {}\".format(mu0, sigma0))\n",
    "print(\"\\nmu1 -> {}, sigma1 -> {}\".format(mu1, sigma1))"
   ]
  },
  {
   "cell_type": "code",
   "execution_count": null,
   "metadata": {
    "collapsed": true
   },
   "outputs": [],
   "source": [
    "q = pd.DataFrame(xi_t_given_T, columns = [\"p0\", \"p1\"])[\"p0\"]\n",
    "q.index = df[\"date\"]"
   ]
  },
  {
   "cell_type": "code",
   "execution_count": null,
   "metadata": {
    "collapsed": true
   },
   "outputs": [],
   "source": [
    "q.to"
   ]
  },
  {
   "cell_type": "code",
   "execution_count": null,
   "metadata": {
    "collapsed": true
   },
   "outputs": [],
   "source": [
    "import matplotlib.pyplot as plt\n",
    "fig,ax = plt.subplots(1,1,figsize=[12,10])\n",
    "q.plot(ax=ax)"
   ]
  },
  {
   "cell_type": "code",
   "execution_count": null,
   "metadata": {
    "collapsed": true
   },
   "outputs": [],
   "source": []
  }
 ],
 "metadata": {
  "hide_input": false,
  "kernelspec": {
   "display_name": "Python [conda env:fnb]",
   "language": "python",
   "name": "conda-env-fnb-py"
  },
  "language_info": {
   "codemirror_mode": {
    "name": "ipython",
    "version": 3
   },
   "file_extension": ".py",
   "mimetype": "text/x-python",
   "name": "python",
   "nbconvert_exporter": "python",
   "pygments_lexer": "ipython3",
   "version": "3.5.4"
  },
  "varInspector": {
   "cols": {
    "lenName": 16,
    "lenType": 16,
    "lenVar": 40
   },
   "kernels_config": {
    "python": {
     "delete_cmd_postfix": "",
     "delete_cmd_prefix": "del ",
     "library": "var_list.py",
     "varRefreshCmd": "print(var_dic_list())"
    },
    "r": {
     "delete_cmd_postfix": ") ",
     "delete_cmd_prefix": "rm(",
     "library": "var_list.r",
     "varRefreshCmd": "cat(var_dic_list()) "
    }
   },
   "types_to_exclude": [
    "module",
    "function",
    "builtin_function_or_method",
    "instance",
    "_Feature"
   ],
   "window_display": false
  }
 },
 "nbformat": 4,
 "nbformat_minor": 2
}
